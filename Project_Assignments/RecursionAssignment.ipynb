{
  "nbformat": 4,
  "nbformat_minor": 0,
  "metadata": {
    "colab": {
      "provenance": [],
      "include_colab_link": true
    },
    "kernelspec": {
      "name": "python3",
      "display_name": "Python 3"
    },
    "language_info": {
      "name": "python"
    }
  },
  "cells": [
    {
      "cell_type": "markdown",
      "metadata": {
        "id": "view-in-github",
        "colab_type": "text"
      },
      "source": [
        "<a href=\"https://colab.research.google.com/github/Dipcha1/Operation_Research_Lab/blob/main/Project_Assignments/RecursionAssignment.ipynb\" target=\"_parent\"><img src=\"https://colab.research.google.com/assets/colab-badge.svg\" alt=\"Open In Colab\"/></a>"
      ]
    },
    {
      "cell_type": "markdown",
      "source": [
        "# Recursion Assignment\n",
        "\n",
        "Solve the recursion\n",
        "$$\n",
        "f(n) = 7f(n-1)-10f(n-2)\\quad f(0) = 1\\quad f(1)=3\n",
        "$$\n",
        "\n",
        "1. Using mathematical method taught in class to get analytic equation.  Type up details and program function\n",
        "2. Using dynamic programming.\n",
        "3. Using dynamic programming and memoization.\n",
        "4. Compare the results of each function.  Discuss the advantages and disadvantages of each method.  Consider difficulty of solving and the time it would take to get the 1000 entry of the sequence in each of the three solutions."
      ],
      "metadata": {
        "id": "gxO997rzUWoK"
      }
    },
    {
      "cell_type": "markdown",
      "source": [
        "##Assume\n",
        "\n",
        "\n",
        "$$\n",
        "a_n = ar^n\n",
        "$$\n",
        "Plug it in! But without the forcing or kick function\n",
        "$$\n",
        "ar^n= 7ar^{n-1} + 10 a r^{n-2}\n",
        "$$\n",
        "Solve for r\n",
        "$$\n",
        "r^2 = 7r-10\n",
        "$$\n",
        "or\n",
        "$$\n",
        "r^2-7r+10 = 0\n",
        "$$\n",
        "$$\n",
        "(r-5)(r-2) = 0\n",
        "$$\n",
        "so $r = 5$ or $r = 2$\n",
        "\n",
        "It gives,\n",
        "\n",
        " $a_n = a\\cdot5^n+ b\\cdot(2)^n$\n",
        "\n",
        "\n",
        "\n",
        "\n",
        " For n= 0 and n=1\n",
        "$$\n",
        "a_0 = 1 = a+b\n",
        "$$\n",
        "$$\n",
        "a_1 = 3 = 5a+2b\n",
        "$$\n",
        "\n",
        "\n",
        "Solving for a and b, we will have a= 1/3 and b= 2/3\n",
        "\n",
        "\n",
        "**Final solution:**\n",
        "\n",
        "$$\n",
        "a_n= \\frac{1}{3}*5^n + \\frac{2}{3}(2)^n\n",
        "$$\n"
      ],
      "metadata": {
        "id": "2N_nlb8J5uJz"
      }
    },
    {
      "cell_type": "code",
      "source": [
        "# Analytic method implementation\n",
        "def f_analytic(n):\n",
        "    return (1/3)*(5**n) + (2/3)*(2**n)\n",
        "\n",
        "\n",
        "for i in range(6):\n",
        "    print(f\"f({i}) = {f_analytic(i)}\")\n"
      ],
      "metadata": {
        "id": "0Q64aNT1IqF1",
        "outputId": "fef9bac2-8824-4ab3-a20f-b90ed68ace6d",
        "colab": {
          "base_uri": "https://localhost:8080/"
        }
      },
      "execution_count": 1,
      "outputs": [
        {
          "output_type": "stream",
          "name": "stdout",
          "text": [
            "f(0) = 1.0\n",
            "f(1) = 3.0\n",
            "f(2) = 10.999999999999998\n",
            "f(3) = 47.0\n",
            "f(4) = 218.99999999999997\n",
            "f(5) = 1062.9999999999998\n"
          ]
        }
      ]
    },
    {
      "cell_type": "code",
      "source": [
        "# ------------------------------------------\n",
        "# Point 2: Dynamic Programming (Tabulation)\n",
        "# ------------------------------------------\n",
        "\n",
        "# Given recurrence:\n",
        "# f(n) = 7f(n-1) - 10f(n-2)\n",
        "# Base cases: f(0) = 1, f(1) = 3\n",
        "\n",
        "def f_dp(n):\n",
        "    # Base cases\n",
        "    if n == 0:\n",
        "        return 1\n",
        "    elif n == 1:\n",
        "        return 3\n",
        "\n",
        "    # Create array to store computed values\n",
        "    f = [0] * (n + 1)\n",
        "    f[0], f[1] = 1, 3\n",
        "\n",
        "    # Fill the array using the recurrence relation\n",
        "    for i in range(2, n + 1):\n",
        "        f[i] = 7 * f[i - 1] - 10 * f[i - 2]\n",
        "\n",
        "    # Return final result\n",
        "    return f[n]\n",
        "\n",
        "# Test first few values\n",
        "for i in range(6):\n",
        "    print(f\"f({i}) = {f_dp(i)}\")\n"
      ],
      "metadata": {
        "id": "f9VWEbwJSRYu",
        "outputId": "8a4b52fb-a51e-4f2e-d03d-293800769225",
        "colab": {
          "base_uri": "https://localhost:8080/"
        }
      },
      "execution_count": 2,
      "outputs": [
        {
          "output_type": "stream",
          "name": "stdout",
          "text": [
            "f(0) = 1\n",
            "f(1) = 3\n",
            "f(2) = 11\n",
            "f(3) = 47\n",
            "f(4) = 219\n",
            "f(5) = 1063\n"
          ]
        }
      ]
    },
    {
      "cell_type": "code",
      "source": [
        "# ------------------------------------------\n",
        "# Point 3: Dynamic Programming with Memoization\n",
        "# ------------------------------------------\n",
        "\n",
        "# Given recurrence:\n",
        "# f(n) = 7f(n-1) - 10f(n-2)\n",
        "# Base cases: f(0) = 1, f(1) = 3\n",
        "\n",
        "# Using recursion with memoization (top-down approach)\n",
        "\n",
        "def f_memo(n, memo={}):\n",
        "    # Check if value already stored\n",
        "    if n in memo:\n",
        "        return memo[n]\n",
        "\n",
        "    # Base cases\n",
        "    if n == 0:\n",
        "        memo[n] = 1\n",
        "    elif n == 1:\n",
        "        memo[n] = 3\n",
        "    else:\n",
        "        # Store result in dictionary to avoid recalculating\n",
        "        memo[n] = 7 * f_memo(n - 1, memo) - 10 * f_memo(n - 2, memo)\n",
        "\n",
        "    return memo[n]\n",
        "\n",
        "# Test first few values\n",
        "for i in range(6):\n",
        "    print(f\"f({i}) = {f_memo(i)}\")\n"
      ],
      "metadata": {
        "id": "nApRnYPkanIp",
        "outputId": "dcddadaa-56a1-48a0-f78b-a3dda63a8f0c",
        "colab": {
          "base_uri": "https://localhost:8080/"
        }
      },
      "execution_count": 3,
      "outputs": [
        {
          "output_type": "stream",
          "name": "stdout",
          "text": [
            "f(0) = 1\n",
            "f(1) = 3\n",
            "f(2) = 11\n",
            "f(3) = 47\n",
            "f(4) = 219\n",
            "f(5) = 1063\n"
          ]
        }
      ]
    }
  ]
}