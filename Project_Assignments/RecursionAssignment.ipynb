{
  "nbformat": 4,
  "nbformat_minor": 0,
  "metadata": {
    "colab": {
      "provenance": [],
      "include_colab_link": true
    },
    "kernelspec": {
      "name": "python3",
      "display_name": "Python 3"
    },
    "language_info": {
      "name": "python"
    }
  },
  "cells": [
    {
      "cell_type": "markdown",
      "metadata": {
        "id": "view-in-github",
        "colab_type": "text"
      },
      "source": [
        "<a href=\"https://colab.research.google.com/github/Dipcha1/Operation_Research_Lab/blob/main/Project_Assignments/RecursionAssignment.ipynb\" target=\"_parent\"><img src=\"https://colab.research.google.com/assets/colab-badge.svg\" alt=\"Open In Colab\"/></a>"
      ]
    },
    {
      "cell_type": "markdown",
      "source": [
        "# Recursion Assignment\n",
        "\n",
        "Solve the recursion\n",
        "$$\n",
        "f(n) = 7f(n-1)-10f(n-2)\\quad f(0) = 1\\quad f(1)=3\n",
        "$$\n",
        "\n",
        "1. Using mathematical method taught in class to get analytic equation.  Type up details and program function\n",
        "2. Using dynamic programming.\n",
        "3. Using dynamic programming and memoization.\n",
        "4. Compare the results of each function.  Discuss the advantages and disadvantages of each method.  Consider difficulty of solving and the time it would take to get the 1000 entry of the sequence in each of the three solutions."
      ],
      "metadata": {
        "id": "gxO997rzUWoK"
      }
    },
    {
      "cell_type": "markdown",
      "source": [
        "##Assume\n",
        "\n",
        "\n",
        "$$\n",
        "a_n = ar^n\n",
        "$$\n",
        "Plug it in! But without the forcing or kick function\n",
        "$$\n",
        "ar^n= 7ar^{n-1} + 10 a r^{n-2}\n",
        "$$\n",
        "Solve for r\n",
        "$$\n",
        "r^2 = 7r-10\n",
        "$$\n",
        "or\n",
        "$$\n",
        "r^2-7r+10 = 0\n",
        "$$\n",
        "$$\n",
        "(r-5)(r-2) = 0\n",
        "$$\n",
        "so $r = 5$ or $r = 2$\n",
        "\n",
        "It gives,\n",
        "\n",
        " $a_n = a\\cdot5^n+ b\\cdot(2)^n$\n",
        "\n",
        "\n",
        "\n",
        "\n",
        " For n= 0 and n=1\n",
        "$$\n",
        "a_0 = 1 = a+b\n",
        "$$\n",
        "$$\n",
        "a_1 = 3 = 5a+2b\n",
        "$$\n",
        "\n",
        "\n",
        "Solving for a and b, we will have a= 1/3 and b= 2/3\n",
        "\n",
        "\n",
        "**Final solution:**\n",
        "\n",
        "$$\n",
        "a_n= \\frac{1}{3}*5^n + \\frac{2}{3}(2)^n\n",
        "$$\n"
      ],
      "metadata": {
        "id": "2N_nlb8J5uJz"
      }
    },
    {
      "cell_type": "code",
      "source": [
        "# Analytic method implementation\n",
        "def f_analytics(n):\n",
        "    return (1/3)*(5**n) + (2/3)*(2**n)\n",
        "\n",
        "\n",
        "for i in range(6):\n",
        "    print(f\"f({i}) = {f_analytics(i)}\")\n"
      ],
      "metadata": {
        "colab": {
          "base_uri": "https://localhost:8080/"
        },
        "id": "NBGPj-vB4RFm",
        "outputId": "fbda6ab4-f0b2-4050-92e2-4df972a3fafa"
      },
      "execution_count": 27,
      "outputs": [
        {
          "output_type": "stream",
          "name": "stdout",
          "text": [
            "f(0) = 1.0\n",
            "f(1) = 3.0\n",
            "f(2) = 10.999999999999998\n",
            "f(3) = 47.0\n",
            "f(4) = 218.99999999999997\n",
            "f(5) = 1062.9999999999998\n"
          ]
        }
      ]
    },
    {
      "cell_type": "code",
      "source": [
        "# Dynamic Programming\n",
        "\n",
        "\n",
        "def f_dp(n):\n",
        "\n",
        "    if n == 0:\n",
        "        return 1\n",
        "    elif n == 1:\n",
        "        return 3\n",
        "\n",
        "\n",
        "    f = [0] * (n + 1)\n",
        "    f[0], f[1] = 1, 3\n",
        "\n",
        "\n",
        "    for i in range(2, n + 1):\n",
        "        f[i] = 7 * f[i - 1] - 10 * f[i - 2]\n",
        "\n",
        "\n",
        "    return f[n]\n",
        "\n",
        "\n",
        "for i in range(6):\n",
        "    print(f\"f({i}) = {f_dp(i)}\")\n"
      ],
      "metadata": {
        "id": "f9VWEbwJSRYu",
        "outputId": "e0bcc03b-9fcc-4230-9f44-7adcc8d86c26",
        "colab": {
          "base_uri": "https://localhost:8080/"
        }
      },
      "execution_count": 28,
      "outputs": [
        {
          "output_type": "stream",
          "name": "stdout",
          "text": [
            "f(0) = 1\n",
            "f(1) = 3\n",
            "f(2) = 11\n",
            "f(3) = 47\n",
            "f(4) = 219\n",
            "f(5) = 1063\n"
          ]
        }
      ]
    },
    {
      "cell_type": "code",
      "source": [
        "# Dynamic Programming with Memoization\n",
        "\n",
        "\n",
        "def f_memo(n, memo={}):\n",
        "\n",
        "    if n in memo:\n",
        "        return memo[n]\n",
        "\n",
        "\n",
        "    if n == 0:\n",
        "        memo[n] = 1\n",
        "    elif n == 1:\n",
        "        memo[n] = 3\n",
        "    else:\n",
        "\n",
        "        memo[n] = 7 * f_memo(n - 1, memo) - 10 * f_memo(n - 2, memo)\n",
        "\n",
        "    return memo[n]\n",
        "\n",
        "\n",
        "for i in range(6):\n",
        "    print(f\"f({i}) = {f_memo(i)}\")\n"
      ],
      "metadata": {
        "id": "nApRnYPkanIp",
        "outputId": "014a7dae-dc30-40ad-bccc-bb40ff83fa17",
        "colab": {
          "base_uri": "https://localhost:8080/"
        }
      },
      "execution_count": 29,
      "outputs": [
        {
          "output_type": "stream",
          "name": "stdout",
          "text": [
            "f(0) = 1\n",
            "f(1) = 3\n",
            "f(2) = 11\n",
            "f(3) = 47\n",
            "f(4) = 219\n",
            "f(5) = 1063\n"
          ]
        }
      ]
    },
    {
      "cell_type": "markdown",
      "metadata": {
        "id": "213a4f7b"
      },
      "source": [
        "## Comparison of Methods\n",
        "\n",
        " Comparison of the three methods:\n",
        "\n",
        " All three methods give identical solution but has different result for large value of 'n'.\n",
        "\n",
        "**Results for f(1000):**\n",
        "\n",
        "\n",
        "\n",
        "\n",
        "\n",
        "*   **Analytic:** Fastest for large 'n' (direct calculation), but requires solving the math. Can have minor precision issues.\n",
        "*   **Dynamic Programming (Tabulation):** Iterative, uses an array to store results. Good for this type of problem, O(n) time, but can use significant memory for very large 'n'.\n",
        "\n",
        "*   **Dynamic Programming with Memoization (Top-Down):** Recursive with caching. O(n) time, uses a dictionary for storage, potentially more intuitive for complex recursions but with function call overhead.\n",
        "\n",
        "For calculating f(1000), the analytic method is likely the quickest, followed closely by the dynamic programming with memoization methods. The analytic method's speed advantage grows with larger 'n'. Dynamic programming is more versatile for recurrences without simple analytic solutions."
      ]
    },
    {
      "cell_type": "code",
      "source": [
        "import time\n",
        "\n",
        "\n",
        "\n",
        "def f_analytics(n):\n",
        "    return (1/3)*(5**n) + (2/3)*(2**n)\n",
        "\n",
        "def f_memo_iterative(n):\n",
        "    if n == 0:\n",
        "        return 1\n",
        "    elif n == 1:\n",
        "        return 3\n",
        "\n",
        "    memo = [0] * (n + 1)\n",
        "    memo[0] = 1\n",
        "    memo[1] = 3\n",
        "\n",
        "    for i in range(2, n + 1):\n",
        "        memo[i] = 7 * memo[i-1] - 10 * memo[i-2]\n",
        "\n",
        "    return memo[n]\n",
        "\n",
        "n_large = 1000\n",
        "print(f\"\\n Testing with n={n_large} \")\n",
        "\n",
        "start = time.time()\n",
        "analytic_large = f_analytic(n_large)\n",
        "print(f\"Analytic method for f({n_large}): {analytic_large}, Time: {time.time()-start:.6f}s\")\n",
        "\n",
        "print(f\"Dynamic Programming (Recursive f_dp): Not applicable (cause RecursionError)\")\n",
        "\n",
        "start = time.time()\n",
        "memo_large = f_memo_iterative(n_large)\n",
        "print(f\"Dynamic Programming (Iterative Memoization): {memo_large}, Time: {time.time()-start:.6f}s\")"
      ],
      "metadata": {
        "colab": {
          "base_uri": "https://localhost:8080/"
        },
        "id": "cu7AHKOa5nyP",
        "outputId": "65b854bc-3d86-4e6d-fa42-4202c7d3f125"
      },
      "execution_count": 30,
      "outputs": [
        {
          "output_type": "stream",
          "name": "stdout",
          "text": [
            "\n",
            " Testing with n=1000 \n",
            "Analytic method for f(1000): 311087872834406292996696514907939056539030482123902674873904779931988970325258544818146775699293700786531663310108080874738495840451344131613840272401310252078136888712775050091331691995300610503700163598755037706080170838265311263601726090375138367936899459618142160373156604742886986407339220970147599485389816295715822176002109456150882476420609954055067597731763164535705950221222913688479935184049436154775063748336818360804421947032532809541760684363205478589421938483585758909528411413611069990653131580034891466521674692974775476199199807774179041665663448810006105748621362602169727870433477857177457991958618736499761660319259546483629454982107443868972772122595845954618009123617662176459, Time: 0.000189s\n",
            "Dynamic Programming (Recursive f_dp): Not applicable (cause RecursionError)\n",
            "Dynamic Programming (Iterative Memoization): 311087872834406292996696514907939056539030482123902674873904779931988970325258544818146775699293700786531663310108080874738495840451344131613840272401310252078136888712775050091331691995300610503700163598755037706080170838265311263601726090375138367936899459618142160373156604742886986407339220970147599485389816295715822176002109456150882476420609954055067597731763164535705950221222913688479935184049436154775063748336818360804421947032532809541760684363205478589421938483585758909528411413611069990653131580034891466521674692974775476199199807774179041665663448810006105748621362602169727870433477857177457991958618736499761660319259546483629454982107443868972772122595845954618009123617662176459, Time: 0.001099s\n"
          ]
        }
      ]
    }
  ]
}