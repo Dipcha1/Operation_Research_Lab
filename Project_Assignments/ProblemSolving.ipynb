{
  "nbformat": 4,
  "nbformat_minor": 0,
  "metadata": {
    "colab": {
      "provenance": [],
      "include_colab_link": true
    },
    "kernelspec": {
      "name": "python3",
      "display_name": "Python 3"
    },
    "language_info": {
      "name": "python"
    }
  },
  "cells": [
    {
      "cell_type": "markdown",
      "metadata": {
        "id": "view-in-github",
        "colab_type": "text"
      },
      "source": [
        "<a href=\"https://colab.research.google.com/github/Dipcha1/Operation_Research_Lab/blob/main/Project_Assignments/ProblemSolving.ipynb\" target=\"_parent\"><img src=\"https://colab.research.google.com/assets/colab-badge.svg\" alt=\"Open In Colab\"/></a>"
      ]
    },
    {
      "cell_type": "markdown",
      "source": [
        "# Problem Solving\n",
        "## Dipesh Chamlagain"
      ],
      "metadata": {
        "id": "jRaIKW6MbtEr"
      }
    },
    {
      "cell_type": "markdown",
      "source": [
        "## Factorials\n",
        "\n",
        "A factorial is the product of all previous numbers and is expressed with an exclamation $!$.  Thus\n",
        "$$\n",
        "3! = 3\\cdot 2\\cdot 1 = 6\n",
        "$$\n",
        "\n",
        "and\n",
        "$$\n",
        "n! = n(n-1)(n-2)\\cdots3\\cdot2\\cdot1\n",
        "$$\n",
        "\n",
        "How many zeros does $1000!$ end with?  Please do not count them in the number below as the precision may be off!"
      ],
      "metadata": {
        "id": "ABJslq5hb0Z-"
      }
    },
    {
      "cell_type": "code",
      "execution_count": 49,
      "metadata": {
        "colab": {
          "base_uri": "https://localhost:8080/"
        },
        "id": "LfbWxWvKbsQb",
        "outputId": "fce06a92-2a0c-4d06-fcb2-427e8b875890"
      },
      "outputs": [
        {
          "output_type": "stream",
          "name": "stdout",
          "text": [
            "Number of trailing zeros in 1000! is: 249\n"
          ]
        }
      ],
      "source": [
        "import math\n",
        "\n",
        "math.factorial(1000)\n",
        "\n",
        "def count_trailing_zeros(n):\n",
        "    count = 0\n",
        "    i = 5\n",
        "    while n / i > 0:\n",
        "        count += n // i\n",
        "        i *= 5\n",
        "    return count\n",
        "\n",
        "zeros = count_trailing_zeros(1000)\n",
        "print(f\"Number of trailing zeros in 1000! is: {zeros}\")"
      ]
    },
    {
      "cell_type": "markdown",
      "source": [
        "## Big Numbers\n",
        "\n",
        "The sum of the digits of the number $100^{13}-26$ is how much?"
      ],
      "metadata": {
        "id": "yZpb4Ghbc4Zo"
      }
    },
    {
      "cell_type": "markdown",
      "source": [
        "Here is how I thought to approach the problem..."
      ],
      "metadata": {
        "id": "V8ptErrNicgC"
      }
    },
    {
      "cell_type": "code",
      "source": [
        "x = '8675309'\n",
        "x"
      ],
      "metadata": {
        "colab": {
          "base_uri": "https://localhost:8080/",
          "height": 36
        },
        "id": "SMGHYyFjcbTs",
        "outputId": "41adca69-0d7c-4835-ea42-f2abb452921e"
      },
      "execution_count": 50,
      "outputs": [
        {
          "output_type": "execute_result",
          "data": {
            "text/plain": [
              "'8675309'"
            ],
            "application/vnd.google.colaboratory.intrinsic+json": {
              "type": "string"
            }
          },
          "metadata": {},
          "execution_count": 50
        }
      ]
    },
    {
      "cell_type": "code",
      "source": [
        "listofx = [int(digit) for digit in x]\n",
        "\n",
        "listofx"
      ],
      "metadata": {
        "colab": {
          "base_uri": "https://localhost:8080/"
        },
        "id": "lisdG2RhiMEw",
        "outputId": "cc629d21-673f-4e05-8e8d-553965460540"
      },
      "execution_count": 51,
      "outputs": [
        {
          "output_type": "execute_result",
          "data": {
            "text/plain": [
              "[8, 6, 7, 5, 3, 0, 9]"
            ]
          },
          "metadata": {},
          "execution_count": 51
        }
      ]
    },
    {
      "cell_type": "code",
      "source": [
        "# My Solution for sum of the digit 100^13-26\n",
        "\n",
        "num= 100**13-26\n",
        "\n",
        "num_str = str(num)\n",
        "\n",
        "listofnum = [int(d) for d in num_str]\n",
        "\n",
        "digits_sum = sum(listofnum)\n",
        "\n",
        "print(f\"The number 100**13 - 26 is:\\n{num}\")\n",
        "print(f\"The list of digits are: {listofnum}\")\n",
        "print(f\"The sum of the digits is: {digits_sum}\")"
      ],
      "metadata": {
        "colab": {
          "base_uri": "https://localhost:8080/"
        },
        "id": "3kYZZYRfIbyz",
        "outputId": "04d6f207-ef7a-4036-d2d9-fe52fb0fd8f2"
      },
      "execution_count": 52,
      "outputs": [
        {
          "output_type": "stream",
          "name": "stdout",
          "text": [
            "The number 100**13 - 26 is:\n",
            "99999999999999999999999974\n",
            "The list of digits are: [9, 9, 9, 9, 9, 9, 9, 9, 9, 9, 9, 9, 9, 9, 9, 9, 9, 9, 9, 9, 9, 9, 9, 9, 7, 4]\n",
            "The sum of the digits is: 227\n"
          ]
        }
      ]
    },
    {
      "cell_type": "markdown",
      "source": [
        "## Handshakes\n",
        "\n",
        "Two soccer teams have just finished their game.  The two teams of 11 all shake hands and the winning team also shakes hand with each other.  How many handshakes have occured?"
      ],
      "metadata": {
        "id": "5p6sa9qZio6Z"
      }
    },
    {
      "cell_type": "code",
      "source": [
        "team_size = 11\n",
        "\n",
        "winning_team_handshakes = (team_size * (team_size - 1)) // 2\n",
        "bwtween_teams_handshakes = team_size * team_size\n",
        "\n",
        "total_handshakes = winning_team_handshakes + bwtween_teams_handshakes\n",
        "print(f\"The total number of handshakes is: {total_handshakes}\")"
      ],
      "metadata": {
        "colab": {
          "base_uri": "https://localhost:8080/"
        },
        "id": "MmalK8TRLB_K",
        "outputId": "a1167ad7-7f93-4bb0-8e8d-f541cc812494"
      },
      "execution_count": 53,
      "outputs": [
        {
          "output_type": "stream",
          "name": "stdout",
          "text": [
            "The total number of handshakes is: 176\n"
          ]
        }
      ]
    },
    {
      "cell_type": "markdown",
      "source": [
        "## Harder Handshakes\n",
        "\n",
        "Mr. Smith and his wife invited four other couples for a dinner party.  When everyone arrived, handshakes were exchanged with some of the others.  Of course no one shook hands with their spouse and nobody shook hands with the same person twice.\n",
        "\n",
        "Mr. Smith asked everyone how many times they shook hands.  He recieved a different answer from each person.\n",
        "\n",
        "How many times did Mr. Smith shake hands?"
      ],
      "metadata": {
        "id": "g4ypceUKjJrp"
      }
    },
    {
      "cell_type": "code",
      "source": [
        "total_couples = 5\n",
        "total_people = total_couples * 2\n",
        "\n",
        "smith_handshakes = (total_people - 2) // 2\n",
        "\n",
        "print(f\"Total people at the party: {total_people}\")\n",
        "print(f\"Mr. Smith shook hands {smith_handshakes} times.\")"
      ],
      "metadata": {
        "id": "qyHeUOSajwat",
        "colab": {
          "base_uri": "https://localhost:8080/"
        },
        "outputId": "98fdf282-8353-4bcc-b655-fed1c88ffd75"
      },
      "execution_count": 54,
      "outputs": [
        {
          "output_type": "stream",
          "name": "stdout",
          "text": [
            "Total people at the party: 10\n",
            "Mr. Smith shook hands 4 times.\n"
          ]
        }
      ]
    }
  ]
}