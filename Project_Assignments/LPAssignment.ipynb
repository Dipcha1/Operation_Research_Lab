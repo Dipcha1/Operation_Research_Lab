{
  "nbformat": 4,
  "nbformat_minor": 0,
  "metadata": {
    "colab": {
      "provenance": [],
      "include_colab_link": true
    },
    "kernelspec": {
      "name": "python3",
      "display_name": "Python 3"
    },
    "language_info": {
      "name": "python"
    }
  },
  "cells": [
    {
      "cell_type": "markdown",
      "metadata": {
        "id": "view-in-github",
        "colab_type": "text"
      },
      "source": [
        "<a href=\"https://colab.research.google.com/github/Dipcha1/Operation_Research_Lab/blob/main/Project_Assignments/LPAssignment.ipynb\" target=\"_parent\"><img src=\"https://colab.research.google.com/assets/colab-badge.svg\" alt=\"Open In Colab\"/></a>"
      ]
    },
    {
      "cell_type": "markdown",
      "source": [
        "# Linear Programming Assignment\n",
        "## Dipesh Chamlagain"
      ],
      "metadata": {
        "id": "31GxmqsFEuzW"
      }
    },
    {
      "cell_type": "markdown",
      "source": [
        "## Redo a WeBWorK Question Using Python"
      ],
      "metadata": {
        "id": "xWsxg3k-EzBs"
      }
    },
    {
      "cell_type": "markdown",
      "source": [
        "Consider WW Set 03 Problem 3.  Using python, do the following:\n",
        "1. Copy your problem here.\n",
        "1. Find corner points.  \n",
        "2. Graph feasible set.\n",
        "3. Find the corner that maximizes the objective function $P = 3x+2y$.\n",
        "4. Introduce slack variables, find the corner points again.\n",
        "5. Solve using a built-in Linear Programming Solver.  Compare your answers."
      ],
      "metadata": {
        "id": "eLQofNfAGgoS"
      }
    },
    {
      "cell_type": "code",
      "source": [
        "\n",
        "print(\"1. PROBLEM :\")\n",
        "\n",
        "\n",
        "print(\"Subject to:\")\n",
        "print(\"   x + y ≥ 4\")\n",
        "print(\"   3x + y ≥ 6\")\n",
        "print(\"   x ≥ 0, y ≥ 0\")\n",
        "print()"
      ],
      "metadata": {
        "colab": {
          "base_uri": "https://localhost:8080/"
        },
        "id": "AcP0c_kGps3p",
        "outputId": "93a11a7b-1fdf-40fe-8494-b6e105e2fa20"
      },
      "execution_count": 18,
      "outputs": [
        {
          "output_type": "stream",
          "name": "stdout",
          "text": [
            "1. PROBLEM :\n",
            "Subject to:\n",
            "   x + y ≥ 4\n",
            "   3x + y ≥ 6\n",
            "   x ≥ 0, y ≥ 0\n",
            "\n"
          ]
        }
      ]
    },
    {
      "cell_type": "code",
      "source": [
        "# 2. FINDING CORNER POINTS\n",
        "\n",
        "import numpy as np\n",
        "\n",
        "print(\"2. FINDING CORNER POINTS:\")\n",
        "\n",
        "\n",
        "\n",
        "A = np.array([[1, 1], [3, 1]])\n",
        "b = np.array([4, 6])\n",
        "\n",
        "\n",
        "vertex1 = np.linalg.solve(A, b)\n",
        "\n",
        "\n",
        "vertex2 = (0, 6)\n",
        "vertex3 = (4, 0)\n",
        "\n",
        "\n",
        "corners_prob1 = [vertex2, vertex1, vertex3]\n",
        "\n",
        "print(\"Corner Points:\")\n",
        "for i, corner in enumerate(corners_prob1):\n",
        "    print(f\"  Vertex {i+1}: ({corner[0]:.1f}, {corner[1]:.1f})\")"
      ],
      "metadata": {
        "colab": {
          "base_uri": "https://localhost:8080/"
        },
        "id": "91tHE81GrynN",
        "outputId": "949bab45-7d91-4ba7-c194-b95cd8593790"
      },
      "execution_count": 19,
      "outputs": [
        {
          "output_type": "stream",
          "name": "stdout",
          "text": [
            "2. FINDING CORNER POINTS:\n",
            "Corner Points:\n",
            "  Vertex 1: (0.0, 6.0)\n",
            "  Vertex 2: (1.0, 3.0)\n",
            "  Vertex 3: (4.0, 0.0)\n"
          ]
        }
      ]
    },
    {
      "cell_type": "code",
      "source": [
        "# 3. GRAPHING FEASIBLE SET\n",
        "\n",
        "import matplotlib.pyplot as plt\n",
        "import numpy as np\n",
        "\n",
        "print(\"3. GRAPHING FEASIBLE REGION \")\n",
        "\n",
        "\n",
        "plt.figure(figsize=(8, 6))\n",
        "x = np.linspace(0, 6, 100)\n",
        "\n",
        "plt.plot(x, 4 - x, 'r-', label='x + y = 4', linewidth=2)\n",
        "plt.plot(x, 6 - 3*x, 'b-', label='3x + y = 6', linewidth=2)\n",
        "\n",
        "\n",
        "\n",
        "\n",
        "points_for_fill = np.array([(0, 10), (0, 6), (1, 3), (4, 0), (10, 0), (10, 10)])\n",
        "\n",
        "plt.fill(points_for_fill[:, 0], points_for_fill[:, 1], 'lightgreen', alpha=0.5, label='Feasible Region (Approx)')\n",
        "\n",
        "if current_corners:\n",
        "    corners_array = np.array(current_corners)\n",
        "    plt.plot(corners_array[:, 0], corners_array[:, 1], 'ro', markersize=8)\n",
        "    for i, (x_val, y_val) in enumerate(current_corners):\n",
        "        plt.text(x_val, y_val, f'  ({x_val:.1f},{y_val:.1f})', fontweight='bold')\n",
        "\n",
        "\n",
        "plt.xlim(0, 6)\n",
        "plt.ylim(0, 8)\n",
        "plt.xlabel('x')\n",
        "plt.ylabel('y')\n",
        "plt.title('Feasible Region ')\n",
        "plt.legend()\n",
        "plt.grid(True, alpha=0.3)\n",
        "plt.show()\n",
        "\n"
      ],
      "metadata": {
        "colab": {
          "base_uri": "https://localhost:8080/",
          "height": 581
        },
        "collapsed": true,
        "id": "7uPjoIjwsiuL",
        "outputId": "2e6fef6d-bacf-4668-f557-3fc69c3b3d08"
      },
      "execution_count": 20,
      "outputs": [
        {
          "output_type": "stream",
          "name": "stdout",
          "text": [
            "3. GRAPHING FEASIBLE REGION \n"
          ]
        },
        {
          "output_type": "display_data",
          "data": {
            "text/plain": [
              "<Figure size 800x600 with 1 Axes>"
            ],
            "image/png": "[encoded data removed]"
          },
          "metadata": {}
        }
      ]
    },
    {
      "cell_type": "code",
      "source": [
        "\n",
        "# 4. FINDING CORNER THAT MAXIMIZES OBJECTIVE FUNCTION\n",
        "\n",
        "print(\"4. MAXIMIZING P = 3x + 2y:\\n\")\n",
        "\n",
        "\n",
        "max_P = -float('inf')\n",
        "best_corner = None\n",
        "\n",
        "print(\"Evaluating objective function at each corner:\")\n",
        "\n",
        "for corner in corners_prob1:\n",
        "    x, y = corner\n",
        "    P = 3*x + 2*y\n",
        "    print(f\"  Corner ({x:.1f}, {y:.1f}): P = 3({x:.1f}) + 2({y:.1f}) = {P:.1f}\")\n",
        "\n",
        "    if P > max_P:\n",
        "        max_P = P\n",
        "        best_corner = corner\n",
        "\n",
        "print(f\"\\n Maximum P = {max_P:.1f}\")\n",
        "print(f\"  At corner: ({best_corner[0]:.1f}, {best_corner[1]:.1f})\")"
      ],
      "metadata": {
        "colab": {
          "base_uri": "https://localhost:8080/"
        },
        "id": "tU0WM5qlNBir",
        "outputId": "5dba8ee7-2555-4404-be2c-1368a01987d1"
      },
      "execution_count": 21,
      "outputs": [
        {
          "output_type": "stream",
          "name": "stdout",
          "text": [
            "4. MAXIMIZING P = 3x + 2y:\n",
            "\n",
            "Evaluating objective function at each corner:\n",
            "  Corner (0.0, 6.0): P = 3(0.0) + 2(6.0) = 12.0\n",
            "  Corner (1.0, 3.0): P = 3(1.0) + 2(3.0) = 9.0\n",
            "  Corner (4.0, 0.0): P = 3(4.0) + 2(0.0) = 12.0\n",
            "\n",
            " Maximum P = 12.0\n",
            "  At corner: (0.0, 6.0)\n"
          ]
        }
      ]
    },
    {
      "cell_type": "code",
      "source": [
        "\n",
        "# 5.Introducing slack variables\n",
        "\n",
        "import sympy as sp\n",
        "\n",
        "x, y = sp.symbols('x y', real=True)\n",
        "\n",
        "\n",
        "print(\"Slack variable form:\")\n",
        "print(\"x + y - s1 = 4\")\n",
        "print(\"3x + y - s2 = 6\")\n",
        "print(\"where s1, s2 ≥ 0\\n\")\n",
        "\n",
        "\n",
        "eq1 = sp.Eq(x + y, 4)\n",
        "eq2 = sp.Eq(3*x + y, 6)\n",
        "\n",
        "\n",
        "points = [\n",
        "    sp.solve([eq1, eq2], (x, y)),\n",
        "    sp.solve([eq1, sp.Eq(x, 0)], (x, y)),\n",
        "    sp.solve([eq2, sp.Eq(x, 0)], (x, y)),\n",
        "    sp.solve([eq1, sp.Eq(y, 0)], (x, y)),\n",
        "    sp.solve([eq2, sp.Eq(y, 0)], (x, y))\n",
        "]\n",
        "\n",
        "\n",
        "feasible = []\n",
        "for sol in points:\n",
        "    if sol:\n",
        "        a, b = float(sol[x]), float(sol[y])\n",
        "        if a >= 0 and b >= 0 and a + b >= 4 and 3*a + b >= 6:\n",
        "            feasible.append((a, b))\n",
        "\n",
        "print(\"Corner (feasible) points:\")\n",
        "for p in feasible:\n",
        "    print(p)\n"
      ],
      "metadata": {
        "colab": {
          "base_uri": "https://localhost:8080/"
        },
        "id": "CEcXy8hxt4dp",
        "outputId": "4762a569-7d02-4286-9453-7b8a2767d6a0"
      },
      "execution_count": 22,
      "outputs": [
        {
          "output_type": "stream",
          "name": "stdout",
          "text": [
            "Slack variable form:\n",
            "x + y - s1 = 4\n",
            "3x + y - s2 = 6\n",
            "where s1, s2 ≥ 0\n",
            "\n",
            "Corner (feasible) points:\n",
            "(1.0, 3.0)\n",
            "(0.0, 6.0)\n",
            "(4.0, 0.0)\n"
          ]
        }
      ]
    },
    {
      "cell_type": "code",
      "metadata": {
        "colab": {
          "base_uri": "https://localhost:8080/"
        },
        "id": "d793ddf9",
        "outputId": "ba5e3653-2f62-4e1d-b371-e7c74d6f23cc"
      },
      "source": [
        "# 6. SOLVING USING BUILT-IN LINEAR PROGRAMMING SOLVER\n",
        "\n",
        "from scipy.optimize import linprog\n",
        "\n",
        "print(\"6. SCIPY SOLVER SOLUTION:\\n\")\n",
        "\n",
        "\n",
        "\n",
        "c = [-3, -2]\n",
        "\n",
        "\n",
        "A_ub = [[-1, -1],\n",
        "        [-3, -1]]\n",
        "b_ub = [-4, -6]\n",
        "\n",
        "\n",
        "bounds = [(0, None), (0, None)]\n",
        "\n",
        "\n",
        "res = linprog(c, A_ub=A_ub, b_ub=b_ub, bounds=bounds, method='highs')\n",
        "\n",
        "print(\"Solver results:\")\n",
        "print(f\"  Success: {res.success}\")\n",
        "print(f\"  Status: {res.status}\")\n",
        "print(f\"  Message: {res.message}\")\n",
        "\n",
        "if res.success:\n",
        "    x_opt, y_opt = res.x\n",
        "    P_opt = -res.fun\n",
        "    print(f\"\\n Optimal x: {x_opt:.6f}\")\n",
        "    print(f\" Optimal y: {y_opt:.6f}\")\n",
        "    print(f\" Maximum P: {P_opt:.6f}\")\n",
        "else:\n",
        "    print(\"\\nSolver failed to find an optimal solution.\")\n",
        "    print(\"This is expected as the feasible region for this problem is unbounded, and the objective function can be infinitely increased.\")"
      ],
      "execution_count": 23,
      "outputs": [
        {
          "output_type": "stream",
          "name": "stdout",
          "text": [
            "6. SCIPY SOLVER SOLUTION:\n",
            "\n",
            "Solver results:\n",
            "  Success: False\n",
            "  Status: 3\n",
            "  Message: The problem is unbounded. (HiGHS Status 10: model_status is Unbounded; primal_status is Feasible)\n",
            "\n",
            "Solver failed to find an optimal solution.\n",
            "This is expected as the feasible region for this problem is unbounded, and the objective function can be infinitely increased.\n"
          ]
        }
      ]
    },
    {
      "cell_type": "markdown",
      "source": [
        "## Redo a WeBWorK Question Using Python"
      ],
      "metadata": {
        "id": "OwGWpGToIx-L"
      }
    },
    {
      "cell_type": "markdown",
      "source": [
        "Consider WW Set 04 Problem 6.  Using python, do the following:\n",
        "1. Write the equations that describe the problem completely using $\\LaTeX$ encoding.   \n",
        "1. Find corner points.  \n",
        "2. Graph feasible set.\n",
        "3. Find the corner that maximizes the objective function.\n",
        "4. Introduce slack variables, find the corner points again.\n",
        "5. Solve using a built-in Linear Programming Solver.  Compare your answers."
      ],
      "metadata": {
        "id": "H7uUoaW6Ix-O"
      }
    },
    {
      "cell_type": "code",
      "source": [
        "from sympy import symbols, Eq, latex\n",
        "\n",
        "# Defining variables\n",
        "x, y = symbols('x y', real=True)\n",
        "\n",
        "# Objective function\n",
        "objective = 240*x + 150*y\n",
        "\n",
        "# Constraints\n",
        "c1 = Eq(22*x + 11*y, 770)   # production hours\n",
        "c2 = Eq(90*x + 75*y, 3750)  # material\n",
        "\n",
        "print(\"Objective function :\")\n",
        "print(latex(objective))\n",
        "\n",
        "print(\"\\nConstraints in LaTeX:\")\n",
        "print(latex(c1))\n",
        "print(latex(c2))\n"
      ],
      "metadata": {
        "colab": {
          "base_uri": "https://localhost:8080/"
        },
        "id": "OQg1I8oo4gP3",
        "outputId": "439c30e6-7a1d-4063-a915-11fe135403b9"
      },
      "execution_count": 24,
      "outputs": [
        {
          "output_type": "stream",
          "name": "stdout",
          "text": [
            "Objective function :\n",
            "240 x + 150 y\n",
            "\n",
            "Constraints in LaTeX:\n",
            "22 x + 11 y = 770\n",
            "90 x + 75 y = 3750\n"
          ]
        }
      ]
    },
    {
      "cell_type": "code",
      "execution_count": 25,
      "metadata": {
        "id": "w8ip_AnaIx-R",
        "colab": {
          "base_uri": "https://localhost:8080/"
        },
        "outputId": "f1b6c1a6-ebda-40a6-a838-3f668941169b"
      },
      "outputs": [
        {
          "output_type": "stream",
          "name": "stdout",
          "text": [
            "2. FINDING CORNER POINTS:\n",
            "Feasible corner points:\n",
            "  Corner 1: (25.0, 20.0)\n",
            "  Corner 2: (35.0, 0)\n",
            "  Corner 3: (0, 50.0)\n",
            "  Corner 4: (0, 0)\n"
          ]
        }
      ],
      "source": [
        "\n",
        "import numpy as np\n",
        "\n",
        "print(\"2. FINDING CORNER POINTS:\")\n",
        "\n",
        "\n",
        "# Define constraint equations\n",
        "# 22x + 11y = 770  -> y = (770 - 22x)/11\n",
        "# 90x + 75y = 3750 -> y = (3750 - 90x)/75\n",
        "\n",
        "\n",
        "corners = []\n",
        "\n",
        "\n",
        "corners.append((0, 0))\n",
        "\n",
        "# x-axis intersections\n",
        "corners.append((770/22, 0))\n",
        "corners.append((3750/90, 0))\n",
        "\n",
        "# y-axis intersections\n",
        "corners.append((0, 770/11))\n",
        "corners.append((0, 3750/75))\n",
        "\n",
        "# Intersection of two constraints\n",
        "A = np.array([[22, 11], [90, 75]])\n",
        "b = np.array([770, 3750])\n",
        "intersection = np.linalg.solve(A, b)\n",
        "corners.append(tuple(intersection))\n",
        "\n",
        "\n",
        "def is_feasible(x, y):\n",
        "    return (22*x + 11*y <= 770 + 1e-10 and\n",
        "            90*x + 75*y <= 3750 + 1e-10 and\n",
        "            x >= -1e-10 and y >= -1e-10)\n",
        "\n",
        "feasible_corners = [corner for corner in corners if is_feasible(*corner)]\n",
        "feasible_corners = list(set([(round(x, 2), round(y, 2)) for x, y in feasible_corners]))\n",
        "\n",
        "print(\"Feasible corner points:\")\n",
        "for i, (x, y) in enumerate(feasible_corners):\n",
        "    print(f\"  Corner {i+1}: ({x}, {y})\")"
      ]
    },
    {
      "cell_type": "code",
      "metadata": {
        "colab": {
          "base_uri": "https://localhost:8080/",
          "height": 616
        },
        "id": "df3f2f63",
        "outputId": "5599fe14-2a1a-4e30-ab30-c5834cc0b39d"
      },
      "source": [
        "# 3. GRAPHING FEASIBLE SET\n",
        "\n",
        "import matplotlib.pyplot as plt\n",
        "import numpy as np\n",
        "\n",
        "print(\"\\n3. GRAPHING FEASIBLE REGION:\")\n",
        "print(\"=\" * 50)\n",
        "\n",
        "\n",
        "x_vals = np.linspace(0, 40, 400)\n",
        "y_vals = np.linspace(0, 60, 600)\n",
        "X, Y = np.meshgrid(x_vals, y_vals)\n",
        "\n",
        "\n",
        "constraint1 = 22*X + 11*Y <= 770\n",
        "constraint2 = 90*X + 75*Y <= 3750\n",
        "non_negativity = (X >= 0) & (Y >= 0)\n",
        "\n",
        "\n",
        "feasible_region = constraint1 & constraint2 & non_negativity\n",
        "\n",
        "\n",
        "plt.figure(figsize=(8, 6))\n",
        "plt.imshow(feasible_region, extent=(0, 40, 0, 60), origin='lower', cmap='Greens', alpha=0.5)\n",
        "\n",
        "\n",
        "plt.plot(x_vals, (770 - 22*x_vals)/11, label='22x + 11y = 770', color='red')\n",
        "plt.plot(x_vals, (3750 - 90*x_vals)/75, label='90x + 75y = 3750', color='blue')\n",
        "\n",
        "\n",
        "\n",
        "feasible_corners_array = np.array(feasible_corners)\n",
        "plt.plot(feasible_corners_array[:, 0], feasible_corners_array[:, 1], 'ro', markersize=8, label='Corner Points')\n",
        "\n",
        "\n",
        "plt.xlabel('x')\n",
        "plt.ylabel('y')\n",
        "plt.title('Feasible Region')\n",
        "plt.legend()\n",
        "plt.grid(True)\n",
        "plt.xlim(0, 40)\n",
        "plt.ylim(0, 60)\n",
        "plt.gca().set_aspect('equal', adjustable='box')\n",
        "plt.show()\n",
        "\n"
      ],
      "execution_count": 26,
      "outputs": [
        {
          "output_type": "stream",
          "name": "stdout",
          "text": [
            "\n",
            "3. GRAPHING FEASIBLE REGION:\n",
            "==================================================\n"
          ]
        },
        {
          "output_type": "display_data",
          "data": {
            "text/plain": [
              "<Figure size 800x600 with 1 Axes>"
            ],
            "image/png": "[encoded data removed]"
          },
          "metadata": {}
        }
      ]
    },
    {
      "cell_type": "code",
      "source": [],
      "metadata": {
        "id": "_uM_Y1Ow-oRF"
      },
      "execution_count": 26,
      "outputs": []
    },
    {
      "cell_type": "code",
      "metadata": {
        "colab": {
          "base_uri": "https://localhost:8080/"
        },
        "id": "847ef588",
        "outputId": "44a526bd-e787-4874-bf8b-44bef7cb0c64"
      },
      "source": [
        "# 4. FIND THE CORNER THAT MAXIMIZES THE OBJECTIVE FUNCTION\n",
        "\n",
        "print(\"\\n4. MAXIMIZING OBJECTIVE FUNCTION:\")\n",
        "print(\"=\" * 40)\n",
        "\n",
        "# Objective function: P = 240x + 150y\n",
        "\n",
        "max_P = -float('inf')\n",
        "best_corner = None\n",
        "\n",
        "print(\"Evaluating objective function at each feasible corner point:\")\n",
        "for corner in feasible_corners:\n",
        "    x_val, y_val = corner\n",
        "    P = 240 * x_val + 150 * y_val\n",
        "    print(f\"  Corner ({x_val:.2f}, {y_val:.2f}): P = 240({x_val:.2f}) + 150({y_val:.2f}) = {P:.2f}\")\n",
        "\n",
        "    if P > max_P:\n",
        "        max_P = P\n",
        "        best_corner = corner\n",
        "\n",
        "print(f\"\\nMaximum P = {max_P:.2f}\")\n",
        "print(f\" at corner: ({best_corner[0]:.2f}, {best_corner[1]:.2f})\")"
      ],
      "execution_count": 27,
      "outputs": [
        {
          "output_type": "stream",
          "name": "stdout",
          "text": [
            "\n",
            "4. MAXIMIZING OBJECTIVE FUNCTION:\n",
            "========================================\n",
            "Evaluating objective function at each feasible corner point:\n",
            "  Corner (25.00, 20.00): P = 240(25.00) + 150(20.00) = 9000.00\n",
            "  Corner (35.00, 0.00): P = 240(35.00) + 150(0.00) = 8400.00\n",
            "  Corner (0.00, 50.00): P = 240(0.00) + 150(50.00) = 7500.00\n",
            "  Corner (0.00, 0.00): P = 240(0.00) + 150(0.00) = 0.00\n",
            "\n",
            "Maximum P = 9000.00\n",
            " at corner: (25.00, 20.00)\n"
          ]
        }
      ]
    },
    {
      "cell_type": "code",
      "source": [
        "\n",
        "# 5. INTRODUCE SLACK VARIABLES AND FINDING CORNER POINTS\n",
        "\n",
        "import sympy as sp\n",
        "\n",
        "x, y = sp.symbols('x y', real=True)\n",
        "\n",
        "print(\"5. SLACK VARIABLES AND CORNER POINTS:\")\n",
        "\n",
        "\n",
        "print(\"Slack variable form:\")\n",
        "print(\"22x + 11y + s1 = 770\")\n",
        "print(\"90x + 75y + s2 = 3750\")\n",
        "print(\"where s1, s2 ≥ 0\\n\")\n",
        "\n",
        "eq1 = sp.Eq(22*x + 11*y, 770)\n",
        "eq2 = sp.Eq(90*x + 75*y, 3750)\n",
        "\n",
        "points = [\n",
        "    sp.solve([eq1, eq2], (x, y)),\n",
        "    sp.solve([eq1, sp.Eq(x, 0)], (x, y)),\n",
        "    sp.solve([eq2, sp.Eq(x, 0)], (x, y)),\n",
        "    sp.solve([eq1, sp.Eq(y, 0)], (x, y)),\n",
        "    sp.solve([eq2, sp.Eq(y, 0)], (x, y))\n",
        "]\n",
        "\n",
        "feasible = []\n",
        "for sol in points:\n",
        "    if sol:\n",
        "        a, b = float(sol[x]), float(sol[y])\n",
        "        if a >= 0 and b >= 0 and 22*a + 11*b <= 770 and 90*a + 75*b <= 3750:\n",
        "            feasible.append((a, b))\n",
        "\n",
        "print(\"Corner (feasible) points:\")\n",
        "for p in feasible:\n",
        "    print(p)"
      ],
      "metadata": {
        "colab": {
          "base_uri": "https://localhost:8080/"
        },
        "id": "pgapYmoQEPea",
        "outputId": "6f724652-52ff-49c3-9776-b14b3e410a07"
      },
      "execution_count": 28,
      "outputs": [
        {
          "output_type": "stream",
          "name": "stdout",
          "text": [
            "5. SLACK VARIABLES AND CORNER POINTS:\n",
            "Slack variable form:\n",
            "22x + 11y + s1 = 770\n",
            "90x + 75y + s2 = 3750\n",
            "where s1, s2 ≥ 0\n",
            "\n",
            "Corner (feasible) points:\n",
            "(25.0, 20.0)\n",
            "(0.0, 50.0)\n",
            "(35.0, 0.0)\n"
          ]
        }
      ]
    },
    {
      "cell_type": "code",
      "metadata": {
        "colab": {
          "base_uri": "https://localhost:8080/"
        },
        "id": "3250abfe",
        "outputId": "1696b1c2-76ab-4993-f71f-d7ae8aa12d61"
      },
      "source": [
        "# 6. SOLVING USING BUILT-IN LINEAR PROGRAMMING SOLVER\n",
        "\n",
        "from scipy.optimize import linprog\n",
        "\n",
        "print(\"6. SCIPY SOLVER SOLUTION:\\n\")\n",
        "\n",
        "\n",
        "\n",
        "A_ub = [[22, 11],\n",
        "        [90, 75]]\n",
        "b_ub = [770, 3750]\n",
        "\n",
        "\n",
        "bounds = [(0, None), (0, None)]\n",
        "\n",
        "\n",
        "res = linprog(c, A_ub=A_ub, b_ub=b_ub, bounds=bounds, method='highs')\n",
        "\n",
        "\n",
        "print(\"Solver results:\\n\")\n",
        "print(f\"  Success: {res.success}\")\n",
        "print(f\"  Status: {res.status}\")\n",
        "print(f\"  Message: {res.message}\")\n",
        "\n",
        "if res.success:\n",
        "    x_opt, y_opt = res.x\n",
        "    P_opt = -res.fun\n",
        "    print(f\"\\n Optimal x: {x_opt:.6f}\")\n",
        "    print(f\" Optimal y: {y_opt:.6f}\")\n",
        "    print(f\" Maximum P: {P_opt:.6f}\")\n",
        "else:\n",
        "    print(\"\\nSolver failed to find an optimal solution.\")"
      ],
      "execution_count": 29,
      "outputs": [
        {
          "output_type": "stream",
          "name": "stdout",
          "text": [
            "6. SCIPY SOLVER SOLUTION:\n",
            "\n",
            "Solver results:\n",
            "\n",
            "  Success: True\n",
            "  Status: 0\n",
            "  Message: Optimization terminated successfully. (HiGHS Status 7: Optimal)\n",
            "\n",
            " Optimal x: 25.000000\n",
            " Optimal y: 20.000000\n",
            " Maximum P: 115.000000\n"
          ]
        }
      ]
    }
  ]
}