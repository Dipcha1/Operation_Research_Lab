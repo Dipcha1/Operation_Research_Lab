{
  "nbformat": 4,
  "nbformat_minor": 0,
  "metadata": {
    "colab": {
      "provenance": []
    },
    "kernelspec": {
      "name": "python3",
      "display_name": "Python 3"
    },
    "language_info": {
      "name": "python"
    }
  },
  "cells": [
    {
      "cell_type": "markdown",
      "source": [
        " **NAME: DIPESH CHAMLAGAIN**\n",
        "\n",
        "**CLASS**: OPERATION REASEARCH (CPSMA 3933)\n",
        "\n",
        "**Assignment**:Lab 0\n",
        "\n",
        "**Date**: 09/02/2025\n"
      ],
      "metadata": {
        "id": "SZMnbrYzMawU"
      }
    },
    {
      "cell_type": "markdown",
      "source": [
        "#My one of the favourite function in python has to be round() function.\n",
        "\n",
        "*It rounds up a number to given number of decimal places, so I dont have to keep track of all the numbers after decimal. I can easily format numbers in a readable way using this function*\n"
      ],
      "metadata": {
        "id": "fLAnhqs3N0V_"
      }
    },
    {
      "cell_type": "code",
      "source": [
        "import math\n",
        "\n",
        "def square_root(num):\n",
        "  #Calculating square root using exponent 1/2\n",
        "\n",
        "  sqrt_value = num**(1/2)\n",
        "\n",
        "\n",
        "  round_up  = math.ceil(sqrt_value * 10) / 10\n",
        "\n",
        "  return round_up\n",
        "\n",
        "num = float(input(\"Enter a number: \"))\n",
        "result = square_root(num)\n",
        "\n",
        "\n",
        "print(result)"
      ],
      "metadata": {
        "id": "c7Q2immeNY5R",
        "colab": {
          "base_uri": "https://localhost:8080/"
        },
        "outputId": "ee1deb4c-4b54-44a0-b054-01fd9e684e70"
      },
      "execution_count": 16,
      "outputs": [
        {
          "output_type": "stream",
          "name": "stdout",
          "text": [
            "Enter a number: 57\n",
            "7.6\n"
          ]
        }
      ]
    },
    {
      "cell_type": "markdown",
      "source": [
        "I have created a list here using Python's random module for random numbers which gave me 10 random integers between 1 and 20. I have also used different listing functions to compute different mathematical operations. So Every time, I run the code it gives me the results which are different every time."
      ],
      "metadata": {
        "id": "QeHYL1mLxu50"
      }
    },
    {
      "cell_type": "code",
      "source": [
        "import random\n",
        "\n",
        "\n",
        "numbers = [random.randint(1,20) for _ in range(10)]\n",
        "print(\"Numbers are:\", numbers)\n",
        "\n",
        "list_sum = sum(numbers)\n",
        "print(\"Sum of numbers is:\", list_sum)\n",
        "\n",
        "list_max = max(numbers)\n",
        "print(\"Maximum number is:\", list_max)\n",
        "\n",
        "list_min = min(numbers)\n",
        "print(\"Minimum number is:\", list_min)\n",
        "\n",
        "list_avg = list_sum / len(numbers)\n",
        "print(\"Average of numbers is:\", list_avg)"
      ],
      "metadata": {
        "id": "hYxvkIHlamV3",
        "colab": {
          "base_uri": "https://localhost:8080/"
        },
        "outputId": "e83d5261-2b2d-43d4-be53-bbe42afa7021"
      },
      "execution_count": 17,
      "outputs": [
        {
          "output_type": "stream",
          "name": "stdout",
          "text": [
            "Numbers are: [14, 17, 11, 13, 19, 5, 20, 11, 9, 16]\n",
            "Sum of numbers is: 135\n",
            "Maximum number is: 20\n",
            "Minimum number is: 5\n",
            "Average of numbers is: 13.5\n"
          ]
        }
      ]
    }
  ]
}